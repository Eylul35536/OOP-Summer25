{
 "cells": [
  {
   "cell_type": "markdown",
   "id": "03baa3f7",
   "metadata": {},
   "source": [
    "### Task 1"
   ]
  },
  {
   "cell_type": "code",
   "execution_count": 1,
   "id": "eca30439",
   "metadata": {},
   "outputs": [],
   "source": [
    "class Student:\n",
    "    def say_hello(self,name):\n",
    "        print('Hello', name)"
   ]
  },
  {
   "cell_type": "code",
   "execution_count": 7,
   "id": "50f77870",
   "metadata": {},
   "outputs": [
    {
     "name": "stdout",
     "output_type": "stream",
     "text": [
      "Hello Eylul\n"
     ]
    }
   ],
   "source": [
    "student1 = Student()\n",
    "student1.say_hello ('Eylul')"
   ]
  },
  {
   "cell_type": "markdown",
   "id": "b559ef87",
   "metadata": {},
   "source": [
    "### Task 2 "
   ]
  },
  {
   "cell_type": "code",
   "execution_count": 8,
   "id": "179d0f56",
   "metadata": {},
   "outputs": [],
   "source": [
    "class Student:\n",
    "    def __init__ (self , name ,index_number):\n",
    "        self.name = name\n",
    "        self.index_number = index_number\n",
    "\n",
    "    def say_hello(self):\n",
    "        print(f\"Hello ,I am {self.name} , my index number is {self.index_number}.\")"
   ]
  },
  {
   "cell_type": "code",
   "execution_count": 11,
   "id": "f7e41e10",
   "metadata": {},
   "outputs": [
    {
     "name": "stdout",
     "output_type": "stream",
     "text": [
      "Hello ,I am Eylul Kilagoz , my index number is 35536.\n"
     ]
    }
   ],
   "source": [
    "say = Student(\"Eylul Kilagoz\" , 35536)\n",
    "say.say_hello()"
   ]
  }
 ],
 "metadata": {
  "kernelspec": {
   "display_name": "Python 3",
   "language": "python",
   "name": "python3"
  },
  "language_info": {
   "codemirror_mode": {
    "name": "ipython",
    "version": 3
   },
   "file_extension": ".py",
   "mimetype": "text/x-python",
   "name": "python",
   "nbconvert_exporter": "python",
   "pygments_lexer": "ipython3",
   "version": "3.12.1"
  }
 },
 "nbformat": 4,
 "nbformat_minor": 5
}
