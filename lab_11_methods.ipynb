{
 "cells": [
  {
   "cell_type": "markdown",
   "id": "69c217eb",
   "metadata": {},
   "source": [
    "### Function with Arguments"
   ]
  },
  {
   "cell_type": "code",
   "execution_count": 4,
   "id": "fb12081e",
   "metadata": {},
   "outputs": [],
   "source": [
    "def say_hello(): \n",
    "    print('Hello')"
   ]
  },
  {
   "cell_type": "markdown",
   "id": "ec8d20fe",
   "metadata": {},
   "source": [
    "### How to call the function ?"
   ]
  },
  {
   "cell_type": "code",
   "execution_count": 6,
   "id": "ba56d858",
   "metadata": {},
   "outputs": [
    {
     "name": "stdout",
     "output_type": "stream",
     "text": [
      "Hello\n"
     ]
    }
   ],
   "source": [
    "say_hello()"
   ]
  },
  {
   "cell_type": "markdown",
   "id": "f3f5d7cd",
   "metadata": {},
   "source": [
    "### Function with arguments"
   ]
  },
  {
   "cell_type": "code",
   "execution_count": 7,
   "id": "6b70bf04",
   "metadata": {},
   "outputs": [],
   "source": [
    "def say_hello(name):\n",
    "    print('Hello', name)"
   ]
  },
  {
   "cell_type": "code",
   "execution_count": 9,
   "id": "13880533",
   "metadata": {},
   "outputs": [
    {
     "name": "stdout",
     "output_type": "stream",
     "text": [
      "Hello Eylül\n"
     ]
    }
   ],
   "source": [
    "say_hello('Eylül')"
   ]
  },
  {
   "cell_type": "markdown",
   "id": "245ca372",
   "metadata": {},
   "source": [
    "### Methods without Arguments\n"
   ]
  },
  {
   "cell_type": "code",
   "execution_count": 10,
   "id": "897a862f",
   "metadata": {},
   "outputs": [],
   "source": [
    "class MyStar:\n",
    "    def say_hello(self):\n",
    "        print('Hello')"
   ]
  },
  {
   "cell_type": "markdown",
   "id": "b34965c8",
   "metadata": {},
   "source": [
    "### How to call it?"
   ]
  },
  {
   "cell_type": "code",
   "execution_count": 11,
   "id": "15579690",
   "metadata": {},
   "outputs": [
    {
     "name": "stdout",
     "output_type": "stream",
     "text": [
      "Hello\n"
     ]
    }
   ],
   "source": [
    "my_star1 = MyStar()\n",
    "my_star1.say_hello()"
   ]
  },
  {
   "cell_type": "markdown",
   "id": "599f356c",
   "metadata": {},
   "source": [
    "### Methods with arguments ?\n"
   ]
  },
  {
   "cell_type": "code",
   "execution_count": 12,
   "id": "14d345a0",
   "metadata": {},
   "outputs": [],
   "source": [
    "class MyStar:\n",
    "    def say_hello(self,name):\n",
    "        print('Hello',name)"
   ]
  },
  {
   "cell_type": "code",
   "execution_count": 14,
   "id": "0cf31773",
   "metadata": {},
   "outputs": [
    {
     "name": "stdout",
     "output_type": "stream",
     "text": [
      "Hello Eylül\n"
     ]
    }
   ],
   "source": [
    "my_star2 = MyStar()\n",
    "my_star2.say_hello('Eylül')"
   ]
  },
  {
   "cell_type": "markdown",
   "id": "04dfd7e5",
   "metadata": {},
   "source": [
    "### Task 1 ;"
   ]
  },
  {
   "cell_type": "code",
   "execution_count": 5,
   "id": "333427e0",
   "metadata": {},
   "outputs": [
    {
     "name": "stdout",
     "output_type": "stream",
     "text": [
      "Animal makes a sound!\n",
      "Pamuk makes a sound!\n"
     ]
    }
   ],
   "source": [
    "class MyAnimal:\n",
    "    def __init__(self, name=\"Animal\"):\n",
    "        self.name = name\n",
    "\n",
    "    def make_sound(self):\n",
    "        print(f\"{self.name} makes a sound!\")\n",
    "\n",
    "\n",
    "my_dog = MyAnimal()            \n",
    "my_dog.make_sound()           \n",
    "\n",
    "my_cat = MyAnimal(\"Pamuk\")      \n",
    "my_cat.make_sound()             \n"
   ]
  }
 ],
 "metadata": {
  "kernelspec": {
   "display_name": "Python 3",
   "language": "python",
   "name": "python3"
  },
  "language_info": {
   "codemirror_mode": {
    "name": "ipython",
    "version": 3
   },
   "file_extension": ".py",
   "mimetype": "text/x-python",
   "name": "python",
   "nbconvert_exporter": "python",
   "pygments_lexer": "ipython3",
   "version": "3.12.1"
  }
 },
 "nbformat": 4,
 "nbformat_minor": 5
}
