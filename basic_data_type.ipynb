{
  "cells": [
    {
      "cell_type": "markdown",
      "id": "2ee9f2bd-7ccb-4060-a704-9b9b0499e6a8",
      "metadata": {},
      "source": [
        "### Simplest Class Ever "
      ]
    },
    {
      "cell_type": "code",
      "execution_count": null,
      "id": "d95331ec-102a-42d9-a11b-35314a24a64c",
      "metadata": {
        "trusted": true
      },
      "outputs": [],
      "source": [
        "class MyClass:\n",
        "    pass"
      ]
    },
    {
      "cell_type": "markdown",
      "id": "fbf343b1-93e1-4ed3-a1bf-852676528321",
      "metadata": {},
      "source": [
        "### Simplest Object Ever"
      ]
    },
    {
      "cell_type": "code",
      "execution_count": null,
      "id": "9413bff0-857a-454f-8dad-9c3c15cb93e0",
      "metadata": {
        "trusted": true
      },
      "outputs": [],
      "source": [
        "class MyClass :\n",
        "    pass \n",
        "\n",
        "obj = MyClass ()"
      ]
    },
    {
      "cell_type": "markdown",
      "id": "30dd1382-e768-42bd-a9c3-04508559fedd",
      "metadata": {},
      "source": [
        "### Class With One Method"
      ]
    },
    {
      "cell_type": "code",
      "execution_count": null,
      "id": "3f0bb953-99bc-4558-b4c3-25c1297a935b",
      "metadata": {
        "trusted": true
      },
      "outputs": [
        {
          "name": "stdout",
          "output_type": "stream",
          "text": [
            "Pamuk\n"
          ]
        }
      ],
      "source": [
        "class Cat:\n",
        "    def __init__(self, name):\n",
        "        self.name = name \n",
        "\n",
        "my_cat = Cat(\"Pamuk\")\n",
        "print(my_cat.name)"
      ]
    },
    {
      "cell_type": "markdown",
      "id": "75f23460-8eb9-4817-ac37-651114e837e1",
      "metadata": {},
      "source": [
        "### The Usage Of That Method"
      ]
    },
    {
      "cell_type": "code",
      "execution_count": null,
      "id": "6f8c2615-d65e-4aad-bf9e-2d3bfc7789fa",
      "metadata": {
        "trusted": true
      },
      "outputs": [],
      "source": [
        "class Cat:\n",
        "    def __init__(self, name):\n",
        "        self.name = name \n",
        "\n",
        "    def meow(self):\n",
        "        print(f\"{self.name} says miaw!\")\n",
        "\n",
        "my_cat = Cat(\"Pamuk\")\n"
      ]
    }
  ],
  "metadata": {
    "kernelspec": {
      "display_name": "Python (Pyodide)",
      "language": "python",
      "name": "python"
    },
    "language_info": {
      "codemirror_mode": {
        "name": "python",
        "version": 3
      },
      "file_extension": ".py",
      "mimetype": "text/x-python",
      "name": "python",
      "nbconvert_exporter": "python",
      "pygments_lexer": "ipython3",
      "version": "3.8"
    }
  },
  "nbformat": 4,
  "nbformat_minor": 5
}
