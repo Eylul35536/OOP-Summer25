{
 "cells": [
  {
   "cell_type": "markdown",
   "id": "3bf08429",
   "metadata": {},
   "source": [
    "## Inheritance "
   ]
  },
  {
   "cell_type": "markdown",
   "id": "80a6e330",
   "metadata": {},
   "source": [
    "### A parent class"
   ]
  },
  {
   "cell_type": "code",
   "execution_count": 45,
   "id": "b2aef56a",
   "metadata": {},
   "outputs": [],
   "source": [
    "class Animal:\n",
    "    def give_sound(self,sound):\n",
    "        print(sound)"
   ]
  },
  {
   "cell_type": "code",
   "execution_count": 46,
   "id": "0c89803f",
   "metadata": {},
   "outputs": [
    {
     "name": "stdout",
     "output_type": "stream",
     "text": [
      "miaw\n"
     ]
    }
   ],
   "source": [
    "my_animal = Animal()\n",
    "my_animal.give_sound('miaw')"
   ]
  },
  {
   "cell_type": "markdown",
   "id": "feb54588",
   "metadata": {},
   "source": [
    "### Child class"
   ]
  },
  {
   "cell_type": "code",
   "execution_count": 47,
   "id": "1cfdf843",
   "metadata": {},
   "outputs": [],
   "source": [
    "class Cat(Animal):\n",
    "    def meow(self):\n",
    "        self.give_sound('miav!')"
   ]
  },
  {
   "cell_type": "code",
   "execution_count": 48,
   "id": "1543062d",
   "metadata": {},
   "outputs": [
    {
     "name": "stdout",
     "output_type": "stream",
     "text": [
      "miav!\n"
     ]
    }
   ],
   "source": [
    "my_kitty = Cat()\n",
    "my_kitty.meow()"
   ]
  },
  {
   "cell_type": "markdown",
   "id": "8ff45a15",
   "metadata": {},
   "source": [
    "### A parent class"
   ]
  },
  {
   "cell_type": "code",
   "execution_count": 49,
   "id": "17585456",
   "metadata": {},
   "outputs": [],
   "source": [
    "class Person:\n",
    "    def __init__(self, first_name, last_name, index_number):\n",
    "        self.first_name = first_name\n",
    "        self.last_name = last_name"
   ]
  },
  {
   "cell_type": "markdown",
   "id": "c9bcf5de",
   "metadata": {},
   "source": [
    "### Student class without inheritance "
   ]
  },
  {
   "cell_type": "code",
   "execution_count": 50,
   "id": "7a3b550d",
   "metadata": {},
   "outputs": [
    {
     "name": "stdout",
     "output_type": "stream",
     "text": [
      "Name: Eylül Kılagöz, index:35536\n"
     ]
    }
   ],
   "source": [
    "\n",
    "class Student: \n",
    "    def __init__(self, first_name, last_name, index_number):\n",
    "        self.first_name = first_name\n",
    "        self.last_name = last_name\n",
    "        self.index_number = index_number \n",
    "    def display_info(self):\n",
    "        print(f\"Name: {self.first_name} {self.last_name}, index:{self.index_number}\")\n",
    "\n",
    "student1 = Student('Eylül', 'Kılagöz', '35536')\n",
    "\n",
    "student1.display_info()\n",
    "    "
   ]
  },
  {
   "cell_type": "markdown",
   "id": "680a23b4",
   "metadata": {},
   "source": [
    "### Student class with inheritance (as child class)"
   ]
  },
  {
   "cell_type": "code",
   "execution_count": 51,
   "id": "efb782c1",
   "metadata": {},
   "outputs": [
    {
     "name": "stdout",
     "output_type": "stream",
     "text": [
      "Name: <__main__.Student object at 0x74459c470140> Eylül, index:35536\n"
     ]
    }
   ],
   "source": [
    "class Student(Person): \n",
    "    def __init__(self, first_name, last_name, index_number):\n",
    "        super().__init__(self,first_name, last_name)\n",
    "        self.index_number = index_number \n",
    "\n",
    "    def display_info(self):\n",
    "        print(f\"Name: {self.first_name} {self.last_name}, index:{self.index_number}\")\n",
    "\n",
    "student1 = Student('Eylül', 'Kılagöz', '35536')\n",
    "student1.display_info()"
   ]
  }
 ],
 "metadata": {
  "kernelspec": {
   "display_name": "Python 3",
   "language": "python",
   "name": "python3"
  },
  "language_info": {
   "codemirror_mode": {
    "name": "ipython",
    "version": 3
   },
   "file_extension": ".py",
   "mimetype": "text/x-python",
   "name": "python",
   "nbconvert_exporter": "python",
   "pygments_lexer": "ipython3",
   "version": "3.12.1"
  }
 },
 "nbformat": 4,
 "nbformat_minor": 5
}
