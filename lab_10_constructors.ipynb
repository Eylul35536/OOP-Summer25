{
 "cells": [
  {
   "cell_type": "markdown",
   "id": "6e00981d",
   "metadata": {},
   "source": [
    "### Task 1"
   ]
  },
  {
   "cell_type": "code",
   "execution_count": 3,
   "id": "0aa795f7",
   "metadata": {},
   "outputs": [],
   "source": [
    "class Animal:\n",
    "    def __init__(self):\n",
    "        print(\"today is a rainy day!\")"
   ]
  },
  {
   "cell_type": "code",
   "execution_count": 4,
   "id": "5f70358e",
   "metadata": {},
   "outputs": [
    {
     "name": "stdout",
     "output_type": "stream",
     "text": [
      "today is a rainy day!\n",
      "today is a rainy day!\n",
      "today is a rainy day!\n"
     ]
    }
   ],
   "source": [
    "animal1= Animal()\n",
    "animal2= Animal()\n",
    "animal3= Animal()"
   ]
  },
  {
   "cell_type": "markdown",
   "id": "acfd0344",
   "metadata": {},
   "source": [
    "### Task 2"
   ]
  },
  {
   "cell_type": "code",
   "execution_count": 6,
   "id": "2cbebc62",
   "metadata": {},
   "outputs": [],
   "source": [
    "class Car:\n",
    "    def __init__(self, brand, model):\n",
    "        self.brand = brand\n",
    "        self.model = model\n",
    "        print(f\"Car created: {self.brand}{self.model}\")"
   ]
  },
  {
   "cell_type": "code",
   "execution_count": 7,
   "id": "e3e75ea6",
   "metadata": {},
   "outputs": [
    {
     "name": "stdout",
     "output_type": "stream",
     "text": [
      "Car created: BMWX5\n",
      "Car created: OpelAstra\n",
      "Car created: AudiA3\n"
     ]
    }
   ],
   "source": [
    "car1 = Car(\"BMW\", \"X5\")\n",
    "car2 = Car(\"Opel\", \"Astra\")\n",
    "car3 = Car(\"Audi\", \"A3\")"
   ]
  },
  {
   "cell_type": "markdown",
   "id": "024f0ffa",
   "metadata": {},
   "source": [
    "## Task for extra point - complex constructor"
   ]
  },
  {
   "cell_type": "code",
   "execution_count": 8,
   "id": "95c7bc62",
   "metadata": {},
   "outputs": [],
   "source": [
    "class House:\n",
    "    def __init__(self, location, floors, furniture):\n",
    "        self.location = location\n",
    "        self.floors = floors\n",
    "        self.furniture = furniture "
   ]
  },
  {
   "cell_type": "code",
   "execution_count": 12,
   "id": "71177db2",
   "metadata": {},
   "outputs": [],
   "source": [
    "location_data1 = {\n",
    "  'country':'Poland', \n",
    "  'city': 'Warsaw',\n",
    "  'street': 'Nowy Swiat 42'\n",
    "}\n",
    "furniture_data1 = [\"desk\", 'tv', 'lamp']"
   ]
  },
  {
   "cell_type": "code",
   "execution_count": 11,
   "id": "e312cc9e",
   "metadata": {},
   "outputs": [],
   "source": [
    "house1 = House(location_data1, 5, furniture_data1)"
   ]
  },
  {
   "cell_type": "code",
   "execution_count": 15,
   "id": "0bb501fc",
   "metadata": {},
   "outputs": [],
   "source": [
    "location_data2 = {\n",
    "  'country':'Turkiye', \n",
    "  'city': 'Istanbul',\n",
    "  'street': 'Basin 10'\n",
    "}\n",
    "furniture_data2 = [\"mirror\", \"chair\", \"carpet\"]"
   ]
  },
  {
   "cell_type": "code",
   "execution_count": 16,
   "id": "b3104d3e",
   "metadata": {},
   "outputs": [],
   "source": [
    "house2=House(location_data2, 8, furniture_data2)"
   ]
  }
 ],
 "metadata": {
  "kernelspec": {
   "display_name": "Python 3",
   "language": "python",
   "name": "python3"
  },
  "language_info": {
   "codemirror_mode": {
    "name": "ipython",
    "version": 3
   },
   "file_extension": ".py",
   "mimetype": "text/x-python",
   "name": "python",
   "nbconvert_exporter": "python",
   "pygments_lexer": "ipython3",
   "version": "3.12.1"
  }
 },
 "nbformat": 4,
 "nbformat_minor": 5
}
